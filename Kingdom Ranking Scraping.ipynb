{
 "metadata": {
  "language_info": {
   "codemirror_mode": {
    "name": "ipython",
    "version": 3
   },
   "file_extension": ".py",
   "mimetype": "text/x-python",
   "name": "python",
   "nbconvert_exporter": "python",
   "pygments_lexer": "ipython3",
   "version": 3
  },
  "orig_nbformat": 2,
  "kernelspec": {
   "name": "python_defaultSpec_1596862740989",
   "display_name": "Python 3.8.5 64-bit"
  }
 },
 "nbformat": 4,
 "nbformat_minor": 2,
 "cells": [
  {
   "cell_type": "code",
   "execution_count": 1,
   "metadata": {
    "tags": []
   },
   "outputs": [
    {
     "output_type": "stream",
     "name": "stderr",
     "text": "2020-08-08 16:42:53 [scrapy.utils.log] INFO: Scrapy 2.2.1 started (bot: scrapybot)\n2020-08-08 16:42:53 [scrapy.utils.log] INFO: Versions: lxml 4.5.2.0, libxml2 2.9.5, cssselect 1.1.0, parsel 1.6.0, w3lib 1.22.0, Twisted 20.3.0, Python 3.8.5 (tags/v3.8.5:580fbb0, Jul 20 2020, 15:57:54) [MSC v.1924 64 bit (AMD64)], pyOpenSSL 19.1.0 (OpenSSL 1.1.1g  21 Apr 2020), cryptography 3.0, Platform Windows-10-10.0.19041-SP0\n2020-08-08 16:42:53 [scrapy.utils.log] DEBUG: Using reactor: twisted.internet.selectreactor.SelectReactor\n2020-08-08 16:42:53 [scrapy.crawler] INFO: Overridden settings:\n{}\n2020-08-08 16:42:53 [scrapy.extensions.telnet] INFO: Telnet Password: bc5c13d13c5101c6\n2020-08-08 16:42:53 [scrapy.middleware] INFO: Enabled extensions:\n['scrapy.extensions.corestats.CoreStats',\n 'scrapy.extensions.telnet.TelnetConsole',\n 'scrapy.extensions.logstats.LogStats']\n2020-08-08 16:42:54 [scrapy.middleware] INFO: Enabled downloader middlewares:\n['scrapy.downloadermiddlewares.httpauth.HttpAuthMiddleware',\n 'scrapy.downloadermiddlewares.downloadtimeout.DownloadTimeoutMiddleware',\n 'scrapy.downloadermiddlewares.defaultheaders.DefaultHeadersMiddleware',\n 'scrapy.downloadermiddlewares.useragent.UserAgentMiddleware',\n 'scrapy.downloadermiddlewares.retry.RetryMiddleware',\n 'scrapy.downloadermiddlewares.redirect.MetaRefreshMiddleware',\n 'scrapy.downloadermiddlewares.httpcompression.HttpCompressionMiddleware',\n 'scrapy.downloadermiddlewares.redirect.RedirectMiddleware',\n 'scrapy.downloadermiddlewares.cookies.CookiesMiddleware',\n 'scrapy.downloadermiddlewares.httpproxy.HttpProxyMiddleware',\n 'scrapy.downloadermiddlewares.stats.DownloaderStats']\n2020-08-08 16:42:54 [scrapy.middleware] INFO: Enabled spider middlewares:\n['scrapy.spidermiddlewares.httperror.HttpErrorMiddleware',\n 'scrapy.spidermiddlewares.offsite.OffsiteMiddleware',\n 'scrapy.spidermiddlewares.referer.RefererMiddleware',\n 'scrapy.spidermiddlewares.urllength.UrlLengthMiddleware',\n 'scrapy.spidermiddlewares.depth.DepthMiddleware']\n2020-08-08 16:42:54 [scrapy.middleware] INFO: Enabled item pipelines:\n[]\n2020-08-08 16:42:54 [scrapy.core.engine] INFO: Spider opened\n2020-08-08 16:42:54 [scrapy.extensions.logstats] INFO: Crawled 0 pages (at 0 pages/min), scraped 0 items (at 0 items/min)\n2020-08-08 16:42:54 [scrapy.extensions.telnet] INFO: Telnet console listening on 127.0.0.1:6023\n2020-08-08 16:42:55 [scrapy.core.engine] DEBUG: Crawled (200) <GET https://lordsmobilemaps.com/en/kingdom/ranking/population/1> (referer: None)\n2020-08-08 16:42:55 [scrapy.core.engine] DEBUG: Crawled (200) <GET https://lordsmobilemaps.com/en/kingdom/ranking/population/2> (referer: None)\n2020-08-08 16:42:55 [scrapy.core.engine] DEBUG: Crawled (200) <GET https://lordsmobilemaps.com/en/kingdom/ranking/population/5> (referer: None)\n2020-08-08 16:42:56 [scrapy.core.engine] DEBUG: Crawled (200) <GET https://lordsmobilemaps.com/en/kingdom/ranking/population/4> (referer: None)\n2020-08-08 16:42:56 [scrapy.core.engine] DEBUG: Crawled (200) <GET https://lordsmobilemaps.com/en/kingdom/ranking/population/6> (referer: None)\n2020-08-08 16:42:56 [scrapy.core.engine] DEBUG: Crawled (200) <GET https://lordsmobilemaps.com/en/kingdom/ranking/population/7> (referer: None)\n2020-08-08 16:42:56 [scrapy.core.engine] DEBUG: Crawled (200) <GET https://lordsmobilemaps.com/en/kingdom/ranking/population/9> (referer: None)\n2020-08-08 16:42:56 [scrapy.core.engine] DEBUG: Crawled (200) <GET https://lordsmobilemaps.com/en/kingdom/ranking/population/10> (referer: None)\n2020-08-08 16:42:56 [scrapy.core.engine] DEBUG: Crawled (200) <GET https://lordsmobilemaps.com/en/kingdom/ranking/population/11> (referer: None)\n2020-08-08 16:42:56 [scrapy.core.engine] DEBUG: Crawled (200) <GET https://lordsmobilemaps.com/en/kingdom/ranking/population/12> (referer: None)\n2020-08-08 16:42:56 [scrapy.core.engine] DEBUG: Crawled (200) <GET https://lordsmobilemaps.com/en/kingdom/ranking/population/8> (referer: None)\n2020-08-08 16:42:56 [scrapy.core.engine] DEBUG: Crawled (200) <GET https://lordsmobilemaps.com/en/kingdom/ranking/population/15> (referer: None)\n2020-08-08 16:42:56 [scrapy.core.engine] DEBUG: Crawled (200) <GET https://lordsmobilemaps.com/en/kingdom/ranking/population/16> (referer: None)\n2020-08-08 16:42:56 [scrapy.core.engine] DEBUG: Crawled (200) <GET https://lordsmobilemaps.com/en/kingdom/ranking/population/17> (referer: None)\n2020-08-08 16:42:56 [scrapy.core.engine] DEBUG: Crawled (200) <GET https://lordsmobilemaps.com/en/kingdom/ranking/population/13> (referer: None)\n2020-08-08 16:42:56 [scrapy.core.engine] DEBUG: Crawled (200) <GET https://lordsmobilemaps.com/en/kingdom/ranking/population/18> (referer: None)\n2020-08-08 16:42:57 [scrapy.core.engine] DEBUG: Crawled (200) <GET https://lordsmobilemaps.com/en/kingdom/ranking/population/20> (referer: None)\n2020-08-08 16:42:57 [scrapy.core.engine] DEBUG: Crawled (200) <GET https://lordsmobilemaps.com/en/kingdom/ranking/population/21> (referer: None)\n2020-08-08 16:42:57 [scrapy.core.engine] DEBUG: Crawled (200) <GET https://lordsmobilemaps.com/en/kingdom/ranking/population/22> (referer: None)\n2020-08-08 16:42:57 [scrapy.core.engine] DEBUG: Crawled (200) <GET https://lordsmobilemaps.com/en/kingdom/ranking/population/23> (referer: None)\n2020-08-08 16:42:57 [scrapy.core.engine] DEBUG: Crawled (200) <GET https://lordsmobilemaps.com/en/kingdom/ranking/population/19> (referer: None)\n2020-08-08 16:42:57 [scrapy.core.engine] DEBUG: Crawled (200) <GET https://lordsmobilemaps.com/en/kingdom/ranking/population/24> (referer: None)\n2020-08-08 16:42:57 [scrapy.core.engine] DEBUG: Crawled (200) <GET https://lordsmobilemaps.com/en/kingdom/ranking/population/25> (referer: None)\n2020-08-08 16:42:57 [scrapy.core.engine] DEBUG: Crawled (200) <GET https://lordsmobilemaps.com/en/kingdom/ranking/population/28> (referer: None)\n2020-08-08 16:42:57 [scrapy.core.engine] DEBUG: Crawled (200) <GET https://lordsmobilemaps.com/en/kingdom/ranking/population/26> (referer: None)\n2020-08-08 16:42:57 [scrapy.core.engine] DEBUG: Crawled (200) <GET https://lordsmobilemaps.com/en/kingdom/ranking/population/27> (referer: None)\n2020-08-08 16:42:58 [scrapy.core.engine] DEBUG: Crawled (200) <GET https://lordsmobilemaps.com/en/kingdom/ranking/population/3> (referer: None)\n2020-08-08 16:42:58 [scrapy.core.engine] DEBUG: Crawled (200) <GET https://lordsmobilemaps.com/en/kingdom/ranking/population/14> (referer: None)\n2020-08-08 16:42:58 [scrapy.core.engine] INFO: Closing spider (finished)\n2020-08-08 16:42:58 [scrapy.statscollectors] INFO: Dumping Scrapy stats:\n{'downloader/request_bytes': 13559,\n 'downloader/request_count': 28,\n 'downloader/request_method_count/GET': 28,\n 'downloader/response_bytes': 246346,\n 'downloader/response_count': 28,\n 'downloader/response_status_count/200': 28,\n 'elapsed_time_seconds': 3.906356,\n 'finish_reason': 'finished',\n 'finish_time': datetime.datetime(2020, 8, 8, 11, 12, 58, 200140),\n 'log_count/DEBUG': 28,\n 'log_count/INFO': 10,\n 'response_received_count': 28,\n 'scheduler/dequeued': 28,\n 'scheduler/dequeued/memory': 28,\n 'scheduler/enqueued': 28,\n 'scheduler/enqueued/memory': 28,\n 'start_time': datetime.datetime(2020, 8, 8, 11, 12, 54, 293784)}\n2020-08-08 16:42:58 [scrapy.core.engine] INFO: Spider closed (finished)\n"
    }
   ],
   "source": [
    "import scrapy\n",
    "from scrapy.crawler import CrawlerProcess\n",
    "import pandas as pd\n",
    "\n",
    "\n",
    "class Population(scrapy.Spider):\n",
    "    name='Population_spider'\n",
    "    def start_requests(self):\n",
    "        for i in range(1,29):\n",
    "            try:\n",
    "                url='https://lordsmobilemaps.com/en/kingdom/ranking/population/'+str(i)\n",
    "                yield scrapy.Request(url = url, callback = self.parse_pop_data)\n",
    "            except:\n",
    "                pass\n",
    "\n",
    "    \n",
    "    def parse_pop_data(self,response):\n",
    "        if len(tbl_header)==0:\n",
    "            tbl_header.append(response.css('div.toptabhead ::text').extract())\n",
    "        data_rows=response.css('div.toptabrow')\n",
    "        \n",
    "        for data_row in data_rows:\n",
    "            data_list=data_row.css(' ::text').extract()\n",
    "            all_data.append(data_list)\n",
    "        \n",
    "\n",
    "all_data=[]\n",
    "tbl_header=[]\n",
    "process =CrawlerProcess()\n",
    "process.crawl(Population)\n",
    "process.start()\n",
    "\n",
    "data_df=pd.DataFrame(all_data)\n",
    "data_df.columns=tbl_header[0][:-1]\n",
    "data_df['#']=data_df['#'].astype(int)\n",
    "data_df['Population']=data_df['Population'].astype(float)\n",
    "#data_df.set_index('#',inplace=True)\n",
    "data_df.sort_values('#',inplace=True)\n",
    "data_df.to_excel('Kingdom Ranking-Population.xlsx',index=False)\n"
   ]
  },
  {
   "cell_type": "code",
   "execution_count": 7,
   "metadata": {
    "tags": []
   },
   "outputs": [],
   "source": [
    "data_df=pd.DataFrame(all_data)\n",
    "data_df.columns=tbl_header[0][:-1]\n",
    "data_df['#']=data_df['#'].astype(int)\n",
    "data_df['Population']=data_df['Population'].astype(float)\n",
    "#data_df.set_index('#',inplace=True)\n",
    "data_df.sort_values('#',inplace=True)\n",
    "data_df.to_excel('Kingdom Ranking-Population.xlsx',index=False)"
   ]
  },
  {
   "cell_type": "code",
   "execution_count": null,
   "metadata": {},
   "outputs": [],
   "source": []
  }
 ]
}